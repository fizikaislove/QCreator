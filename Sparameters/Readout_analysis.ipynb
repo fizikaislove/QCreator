{
 "cells": [
  {
   "cell_type": "code",
   "execution_count": 1,
   "metadata": {
    "ExecuteTime": {
     "end_time": "2020-08-06T07:41:48.928607Z",
     "start_time": "2020-08-06T07:41:48.914645Z"
    },
    "scrolled": false
   },
   "outputs": [
    {
     "data": {
      "text/plain": [
       "['__header__',\n",
       " '__version__',\n",
       " '__globals__',\n",
       " 'F\\x00\\x00\\x00\\x00\\x00\\x00\\x00',\n",
       " 'S\\x00\\x00\\x00\\x00\\x00\\x00\\x00']"
      ]
     },
     "execution_count": 1,
     "metadata": {},
     "output_type": "execute_result"
    }
   ],
   "source": [
    "import numpy as np\n",
    "import matplotlib as mpl\n",
    "import matplotlib.pyplot as plt\n",
    "import scipy.io\n",
    "import lmfit\n",
    "import pprint\n",
    "import os\n",
    "\n",
    "mat = scipy.io.loadmat('Matlab.mat')\n",
    "\n",
    "list(mat)"
   ]
  },
  {
   "cell_type": "code",
   "execution_count": 2,
   "metadata": {
    "ExecuteTime": {
     "end_time": "2020-08-06T07:41:50.418348Z",
     "start_time": "2020-08-06T07:41:50.010223Z"
    }
   },
   "outputs": [
    {
     "data": {
      "image/png": "[encoded data removed]",
      "text/plain": [
       "<Figure size 432x288 with 1 Axes>"
      ]
     },
     "metadata": {
      "needs_background": "light"
     },
     "output_type": "display_data"
    }
   ],
   "source": [
    "F = mat['F\\x00\\x00\\x00\\x00\\x00\\x00\\x00']\n",
    "S = mat['S\\x00\\x00\\x00\\x00\\x00\\x00\\x00']\n",
    "\n",
    "dataset_all = {'qb1': (F[0], S[1][0])}\n",
    "\n",
    "datarange = {'qb1': (9.0e9, 9.2e9)}\n",
    "\n",
    "datarange = {qb: (r[0] - 40e6, r[1] + 40e6) for qb, r in datarange.items()}\n",
    "filterdatax = lambda f, s, r: (f[(f >= r[0])*(f < r[1])], s[(f >= r[0])*(f < r[1])])\n",
    "dataset = {qb: filterdatax(*dataset_all[qb], datarange[qb]) for qb in dataset_all}\n",
    "\n",
    "for qb in ['qb1']:\n",
    "    f, s = dataset[qb]\n",
    "    plt.plot(f/1e6, np.abs(s), label=qb)\n",
    "    plt.xlabel('Frequency, $f$ (MHz)')\n",
    "    plt.ylabel('Power transmission, $S_{21}$ (dB)')\n",
    "    plt.legend()\n",
    "    plt.show()"
   ]
  },
  {
   "cell_type": "code",
   "execution_count": 3,
   "metadata": {},
   "outputs": [
    {
     "data": {
      "text/plain": [
       "array([8.96e+09, 8.97e+09, 8.98e+09, 8.99e+09, 9.00e+09, 9.01e+09,\n",
       "       9.02e+09, 9.03e+09, 9.04e+09, 9.05e+09, 9.06e+09, 9.07e+09,\n",
       "       9.08e+09, 9.09e+09, 9.10e+09, 9.11e+09, 9.12e+09, 9.13e+09,\n",
       "       9.14e+09, 9.15e+09, 9.16e+09, 9.17e+09, 9.18e+09, 9.19e+09,\n",
       "       9.20e+09, 9.21e+09, 9.22e+09, 9.23e+09])"
      ]
     },
     "execution_count": 3,
     "metadata": {},
     "output_type": "execute_result"
    }
   ],
   "source": [
    "f"
   ]
  },
  {
   "cell_type": "code",
   "execution_count": 4,
   "metadata": {},
   "outputs": [
    {
     "data": {
      "text/plain": [
       "array([ 0.18681905+0.0569232j ,  0.18635747+0.05302206j,\n",
       "        0.18562491+0.04862021j,  0.18452102+0.04361645j,\n",
       "        0.1828981 +0.03788207j,  0.1805319 +0.03125216j,\n",
       "        0.17706884+0.02351536j,  0.17192457+0.01440586j,\n",
       "        0.16407398+0.00361539j,  0.15157703-0.00909603j,\n",
       "        0.13040186-0.02331083j,  0.091416  -0.03473313j,\n",
       "        0.01791845-0.015561j  , -0.01450698+0.13082911j,\n",
       "        0.15382436+0.15902838j,  0.19131092+0.05964207j,\n",
       "        0.1583791 -0.00501654j,  0.09882878-0.03459295j,\n",
       "        0.03074903-0.02353006j, -0.01788499+0.0262023j ,\n",
       "       -0.02843044+0.08859254j, -0.01030451+0.13739131j,\n",
       "        0.01790085+0.16637999j,  0.04531666+0.1806799j ,\n",
       "        0.06845348+0.18631052j,  0.08708023+0.18729286j,\n",
       "        0.10191676+0.18591361j,  0.1137872 +0.18340443j])"
      ]
     },
     "execution_count": 4,
     "metadata": {},
     "output_type": "execute_result"
    }
   ],
   "source": [
    "s"
   ]
  },
  {
   "cell_type": "code",
   "execution_count": 5,
   "metadata": {
    "ExecuteTime": {
     "end_time": "2020-08-06T07:41:58.841243Z",
     "start_time": "2020-08-06T07:41:58.818307Z"
    }
   },
   "outputs": [],
   "source": [
    "def fit_and_plot_complex(freq, s21, plotfit=True, plotguess=True, label=None, plot_filename=None, **guessvals):\n",
    "    def s21func(x, A, phi, kP, gR, wR, wP, J, tau, k, phi0): \n",
    "        y = (A + k*(x-np.mean(x)))*np.exp(1j*tau*x + 1j*phi0)*(np.cos(phi) - np.exp(1j*phi)*kP*(gR-2j*(x-wR))/(4*J*J+(kP-2j*(x-wP))*(gR-2j*(x-wR))))\n",
    "        return np.concatenate((np.real(y), np.imag(y)))\n",
    "    model = lmfit.Model(s21func)\n",
    "    def_guessvals = dict(\n",
    "        A=0.5,\n",
    "        phi=-0.6,\n",
    "        kP=50.8,\n",
    "        gR=0.5,\n",
    "        wR=np.mean(freq),\n",
    "        wP=np.mean(freq),\n",
    "        J=12,\n",
    "        tau=np.median(np.diff(np.angle(s21)))/np.median(np.diff(freq)),\n",
    "        k=0,\n",
    "        phi0=0,\n",
    "    )\n",
    "    def_guessvals.update(guessvals)\n",
    "    pars = model.make_params(**def_guessvals)\n",
    "    pars['kP'].min = 0\n",
    "    pars['gR'].min = 0\n",
    "    pars['J'].min = 0\n",
    "    pars['wP'].min = freq.min()\n",
    "    pars['wR'].min = freq.min()\n",
    "    pars['wP'].max = freq.max()\n",
    "    pars['wR'].max = freq.max()\n",
    "    fit = model.fit(np.concatenate((np.real(s21), np.imag(s21))), x=freq, params=pars)\n",
    "    s21fit = fit.best_fit[:len(freq)] + 1j*fit.best_fit[len(freq):]\n",
    "    s21guess = s21func(freq, **def_guessvals)\n",
    "    s21guess = s21guess[:len(freq)] + 1j*s21guess[len(freq):]\n",
    "    \n",
    "    plt.subplot(121)\n",
    "    plt.plot(freq, np.abs(s21), label=label)\n",
    "    if plotfit: plt.plot(freq, np.abs(s21fit))\n",
    "    if plotguess: plt.plot(freq, np.abs(s21guess))\n",
    "    plt.xlabel('Frequency, $f$ (MHz)')\n",
    "    plt.ylabel('Transmission amplitude, $|S_{21}|$')\n",
    "    if label is not None: plt.legend()\n",
    "    plt.subplot(122)\n",
    "    plt.plot(freq, np.angle(s21))\n",
    "    if plotfit: plt.plot(freq, np.angle(s21fit), 'r-',linewidth=1, label='Lorentzian fit')\n",
    "    if plotguess: plt.plot(freq, np.angle(s21guess),'k--',  linewidth=2, label='Simulation')\n",
    "    plt.xlabel('Frequency, $f$ (MHz)')\n",
    "    plt.ylabel('Transmission angle, $\\\\mathrm{arg}(S_{21})$')\n",
    "    \n",
    "    plt.gcf().set_size_inches(9,3)\n",
    "    if plot_filename is not None: plt.savefig(plot_filename, bbox_inches='tight')\n",
    "    plt.show()\n",
    "\n",
    "    \n",
    "    return fit, s21fit\n",
    "\n",
    "def fit_and_plot_abs(freq, s21, plotfit=True, plotguess=True, label=None, plot_filename=True, **guessvals):\n",
    "    def s21func(x, A, phi, kP, gR, wR, wP, J, k): \n",
    "        y = (A + k*(x-np.mean(x)))*np.abs(np.cos(phi) - np.exp(1j*phi)*kP*(gR-2j*(x-wR))/(4*J*J+(kP-2j*(x-wP))*(gR-2j*(x-wR))))\n",
    "        return y\n",
    "    model = lmfit.Model(s21func)\n",
    "    def_guessvals = dict(\n",
    "        A=0.5,\n",
    "        phi=-0.6,\n",
    "        kP=50.8,\n",
    "        gR=0.5,\n",
    "        wR=np.mean(freq),\n",
    "        wP=np.mean(freq),\n",
    "        J=12,\n",
    "        k=0,\n",
    "    )\n",
    "    def_guessvals.update(guessvals)\n",
    "    pars = model.make_params(**def_guessvals)\n",
    "    pars['kP'].min = 0\n",
    "    pars['gR'].min = 0\n",
    "    pars['J'].min = 0\n",
    "    pars['wP'].min = freq.min()\n",
    "    pars['wR'].min = freq.min()\n",
    "    pars['wP'].max = freq.max()\n",
    "    pars['wR'].max = freq.max()\n",
    "    fit = model.fit(np.abs(s21), x=freq, params=pars)\n",
    "    s21fit = fit.best_fit\n",
    "    s21guess = s21func(freq, **def_guessvals)\n",
    "    \n",
    "    plt.plot(freq, np.abs(s21),'k--',  linewidth=1.2, label=label)\n",
    "    if plotfit: plt.plot(freq,s21fit, 'r-',linewidth=0.8, label='Fit')\n",
    "    if plotguess: plt.plot(freq, s21guess,'k--',  linewidth=2, label='Simulation')\n",
    "    plt.xlabel('Frequency, $f$ [MHz]')\n",
    "    plt.ylabel('Normalized transmission\\n amplitude, $|S_{21}|/ \\\\mathrm{max}(|S_{21}|)$')\n",
    "    if label is not None: plt.legend()\n",
    "#     plt.gcf().set_size_inches(4.5,3)\n",
    "    if plot_filename is not None: plt.savefig(plot_filename+'.pdf', bbox_inches='tight')\n",
    "    plt.show()\n",
    "\n",
    "    \n",
    "    return fit, s21fit"
   ]
  },
  {
   "cell_type": "code",
   "execution_count": 6,
   "metadata": {
    "ExecuteTime": {
     "end_time": "2020-08-06T07:42:00.018985Z",
     "start_time": "2020-08-06T07:42:00.011012Z"
    }
   },
   "outputs": [],
   "source": [
    "my_params = {\n",
    "'figure.dpi':  120,\n",
    "'figure.figsize': [4,2], # [4,3]\n",
    "'figure.subplot.left' : 0.15,\n",
    "'figure.subplot.right'      : 0.9,\n",
    "'figure.subplot.bottom'     : 0.12,\n",
    "'axes.titlesize'    : 'medium',\n",
    "'axes.labelsize'    : 10.0 ,\n",
    "'xtick.direction' : 'in',\n",
    "'ytick.direction' : 'in',\n",
    "'ytick.labelsize'   :'small',\n",
    "'xtick.labelsize'   :'small',\n",
    "'legend.fontsize'   : 8,  #small,\n",
    "'legend.loc'        : 'best',\n",
    "'font.size'         : 10.0,\n",
    "'font.family'       : 'serif',\n",
    "'text.usetex' : False,    # if you have latex\n",
    "}\n",
    "\n",
    "guessvals = {\n",
    "    'qb1': {'A': 1,\n",
    "            'J': 25,\n",
    "            'gR': 1,\n",
    "            'k': 0.1,\n",
    "            'kP': 50,\n",
    "            'phi': 25,\n",
    "            'wP': 9060,\n",
    "            'wR': 9150}  \n",
    "}\n",
    "\n",
    "\n",
    "datatransform = lambda f, s: (f/1e6, s/np.abs(s).max())"
   ]
  },
  {
   "cell_type": "code",
   "execution_count": 7,
   "metadata": {
    "ExecuteTime": {
     "end_time": "2020-08-06T07:42:01.419681Z",
     "start_time": "2020-08-06T07:42:01.036705Z"
    }
   },
   "outputs": [
    {
     "name": "stdout",
     "output_type": "stream",
     "text": [
      "\n",
      "\n",
      "\n",
      "qb1\n"
     ]
    },
    {
     "data": {
      "image/png": "[encoded data removed]",
      "text/plain": [
       "<Figure size 480x240 with 1 Axes>"
      ]
     },
     "metadata": {
      "needs_background": "light"
     },
     "output_type": "display_data"
    },
    {
     "name": "stdout",
     "output_type": "stream",
     "text": [
      "{'A': 1.0021194392250763,\n",
      " 'J': 30.29093811930018,\n",
      " 'gR': 0.0343660669677579,\n",
      " 'k': 0.00010213604380630143,\n",
      " 'kP': 93.16508120987126,\n",
      " 'phi': 25.32557462310137,\n",
      " 'wP': 9132.283367958977,\n",
      " 'wR': 9104.236098771175}\n"
     ]
    }
   ],
   "source": [
    "bestvals = {}\n",
    "\n",
    "\n",
    "plt.rcParams.update(my_params)\n",
    "\n",
    "\n",
    "for qb in dataset:\n",
    "    print(f'\\n\\n\\n{qb}')\n",
    "    fit, s21fit = fit_and_plot_abs(*datatransform(*dataset[qb]), **guessvals[qb], plotguess=False, label=qb, plot_filename=qb+'.png')\n",
    "    \n",
    "    pprint.pprint(fit.best_values)\n",
    "    bestvals[qb] = fit.best_values"
   ]
  },
  {
   "cell_type": "code",
   "execution_count": null,
   "metadata": {},
   "outputs": [],
   "source": []
  }
 ],
 "metadata": {
  "kernelspec": {
   "display_name": "Python 3",
   "language": "python",
   "name": "python3"
  },
  "language_info": {
   "codemirror_mode": {
    "name": "ipython",
    "version": 3
   },
   "file_extension": ".py",
   "mimetype": "text/x-python",
   "name": "python",
   "nbconvert_exporter": "python",
   "pygments_lexer": "ipython3",
   "version": "3.7.3"
  },
  "toc": {
   "base_numbering": 1,
   "nav_menu": {},
   "number_sections": true,
   "sideBar": true,
   "skip_h1_title": false,
   "title_cell": "Table of Contents",
   "title_sidebar": "Contents",
   "toc_cell": false,
   "toc_position": {},
   "toc_section_display": true,
   "toc_window_display": false
  }
 },
 "nbformat": 4,
 "nbformat_minor": 2
}
